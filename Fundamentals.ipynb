{
 "cells": [
  {
   "cell_type": "markdown",
   "metadata": {},
   "source": [
    "# Python Programming Fundamentals\n",
    "\n",
    "You can run this from binder, using: https://mybinder.org/v2/gh/rodsenra/python_course/master\n",
    "\n",
    "The material is split into 4 parts:\n",
    "* Part 1 - Fundamentals: Primitive Types\n",
    "* Part 2 - Namespaces: Functions, Classes, Modules and Packages\n",
    "* Part 3 - Object Orientation\n",
    "* Part 4 - Functional Programming\n",
    "\n",
    "On this (2hs) Webinar we will focus on Part 1.\n",
    "We will mention aspects of OO and Functional programming as well.\n",
    "\n",
    "DISCLAIMER: All examples in Python 3!"
   ]
  },
  {
   "cell_type": "markdown",
   "metadata": {},
   "source": [
    "# Executing Python Code\n",
    "\n",
    " * Interactive Mode ```python```\n",
    " * Run script or program ```python blah.py```\n",
    " * Run script and fallback to interactive mode ```python -i bla.py```\n",
    " * Single command line expression ```python -c 'print(3*15)'``` "
   ]
  },
  {
   "cell_type": "markdown",
   "metadata": {},
   "source": [
    "# Using Jupyter\n"
   ]
  },
  {
   "cell_type": "markdown",
   "metadata": {},
   "source": [
    "We start by exploring Python scalar native types at the REPL.\n",
    "We will use some builtin functions to explain the connection between scalar types and Python's Object Oriented nature."
   ]
  },
  {
   "cell_type": "markdown",
   "metadata": {},
   "source": [
    "# Fundamentals\n",
    "\n",
    "In this first part, we will visit first the primitive types in Python, and then explore the statements that allow us to manipulate those types to build programs.\n",
    "We are going to use the REPL (Read-Eval-Print-Loop) as the main tool to explore the language.\n",
    "\n",
    "## Numbers and using Python as a calculator"
   ]
  },
  {
   "cell_type": "code",
   "execution_count": null,
   "metadata": {
    "ExecuteTime": {
     "end_time": "2018-09-26T01:49:15.339434Z",
     "start_time": "2018-09-26T01:49:15.328869Z"
    }
   },
   "outputs": [],
   "source": [
    "1"
   ]
  },
  {
   "cell_type": "code",
   "execution_count": null,
   "metadata": {
    "ExecuteTime": {
     "end_time": "2018-09-26T01:49:15.346049Z",
     "start_time": "2018-09-26T01:49:15.341410Z"
    }
   },
   "outputs": [],
   "source": [
    "1.0"
   ]
  },
  {
   "cell_type": "code",
   "execution_count": null,
   "metadata": {
    "ExecuteTime": {
     "end_time": "2018-09-26T01:49:15.351961Z",
     "start_time": "2018-09-26T01:49:15.348327Z"
    }
   },
   "outputs": [],
   "source": [
    "1 == 1.0"
   ]
  },
  {
   "cell_type": "code",
   "execution_count": null,
   "metadata": {
    "ExecuteTime": {
     "end_time": "2018-09-26T01:49:15.357617Z",
     "start_time": "2018-09-26T01:49:15.353836Z"
    }
   },
   "outputs": [],
   "source": [
    "1 is 1.0"
   ]
  },
  {
   "cell_type": "code",
   "execution_count": null,
   "metadata": {
    "ExecuteTime": {
     "end_time": "2018-09-26T01:49:15.364033Z",
     "start_time": "2018-09-26T01:49:15.359884Z"
    }
   },
   "outputs": [],
   "source": [
    "type(1)"
   ]
  },
  {
   "cell_type": "code",
   "execution_count": null,
   "metadata": {
    "ExecuteTime": {
     "end_time": "2018-09-26T01:49:15.368997Z",
     "start_time": "2018-09-26T01:49:15.365768Z"
    }
   },
   "outputs": [],
   "source": [
    "type(1.0)"
   ]
  },
  {
   "cell_type": "code",
   "execution_count": null,
   "metadata": {
    "ExecuteTime": {
     "end_time": "2018-09-26T01:49:15.374678Z",
     "start_time": "2018-09-26T01:49:15.370669Z"
    }
   },
   "outputs": [],
   "source": [
    "isinstance(1, object)"
   ]
  },
  {
   "cell_type": "markdown",
   "metadata": {},
   "source": [
    "We even have complex numbers as native scalar types!"
   ]
  },
  {
   "cell_type": "code",
   "execution_count": null,
   "metadata": {
    "ExecuteTime": {
     "end_time": "2018-09-26T01:49:15.380944Z",
     "start_time": "2018-09-26T01:49:15.376770Z"
    }
   },
   "outputs": [],
   "source": [
    "1 + 0j"
   ]
  },
  {
   "cell_type": "code",
   "execution_count": null,
   "metadata": {
    "ExecuteTime": {
     "end_time": "2018-09-26T01:49:15.386975Z",
     "start_time": "2018-09-26T01:49:15.383115Z"
    }
   },
   "outputs": [],
   "source": [
    "type(1 + 0j)"
   ]
  },
  {
   "cell_type": "code",
   "execution_count": null,
   "metadata": {
    "ExecuteTime": {
     "end_time": "2018-09-26T01:49:15.393325Z",
     "start_time": "2018-09-26T01:49:15.389183Z"
    }
   },
   "outputs": [],
   "source": [
    "1 + 0j == 1"
   ]
  },
  {
   "cell_type": "code",
   "execution_count": null,
   "metadata": {
    "ExecuteTime": {
     "end_time": "2018-09-26T01:49:15.398724Z",
     "start_time": "2018-09-26T01:49:15.395234Z"
    }
   },
   "outputs": [],
   "source": [
    "3 / 2"
   ]
  },
  {
   "cell_type": "code",
   "execution_count": null,
   "metadata": {
    "ExecuteTime": {
     "end_time": "2018-09-26T01:49:15.404356Z",
     "start_time": "2018-09-26T01:49:15.400569Z"
    }
   },
   "outputs": [],
   "source": [
    "3 // 2"
   ]
  },
  {
   "cell_type": "code",
   "execution_count": null,
   "metadata": {
    "ExecuteTime": {
     "end_time": "2018-09-26T01:49:15.493316Z",
     "start_time": "2018-09-26T01:49:15.406061Z"
    }
   },
   "outputs": [],
   "source": [
    "1 / 0"
   ]
  },
  {
   "cell_type": "code",
   "execution_count": null,
   "metadata": {
    "ExecuteTime": {
     "end_time": "2018-09-26T01:49:25.252713Z",
     "start_time": "2018-09-26T01:49:25.249282Z"
    }
   },
   "outputs": [],
   "source": [
    "2*2*2"
   ]
  },
  {
   "cell_type": "code",
   "execution_count": null,
   "metadata": {
    "ExecuteTime": {
     "end_time": "2018-09-26T01:49:25.261297Z",
     "start_time": "2018-09-26T01:49:25.258051Z"
    }
   },
   "outputs": [],
   "source": [
    "2**3"
   ]
  },
  {
   "cell_type": "code",
   "execution_count": null,
   "metadata": {
    "ExecuteTime": {
     "end_time": "2018-09-26T01:49:25.266353Z",
     "start_time": "2018-09-26T01:49:25.263376Z"
    }
   },
   "outputs": [],
   "source": [
    "2**1024"
   ]
  },
  {
   "cell_type": "code",
   "execution_count": null,
   "metadata": {
    "ExecuteTime": {
     "end_time": "2018-09-26T01:49:25.272337Z",
     "start_time": "2018-09-26T01:49:25.268345Z"
    }
   },
   "outputs": [],
   "source": [
    "2**4096"
   ]
  },
  {
   "cell_type": "code",
   "execution_count": null,
   "metadata": {
    "ExecuteTime": {
     "end_time": "2018-09-26T01:49:25.278030Z",
     "start_time": "2018-09-26T01:49:25.274310Z"
    }
   },
   "outputs": [],
   "source": [
    "_"
   ]
  },
  {
   "cell_type": "code",
   "execution_count": null,
   "metadata": {
    "ExecuteTime": {
     "end_time": "2018-09-26T01:49:25.283812Z",
     "start_time": "2018-09-26T01:49:25.280007Z"
    }
   },
   "outputs": [],
   "source": [
    "_ + 1"
   ]
  },
  {
   "cell_type": "code",
   "execution_count": null,
   "metadata": {
    "ExecuteTime": {
     "end_time": "2018-09-26T01:49:25.291978Z",
     "start_time": "2018-09-26T01:49:25.285597Z"
    }
   },
   "outputs": [],
   "source": [
    "2**4096 / 2"
   ]
  },
  {
   "cell_type": "markdown",
   "metadata": {},
   "source": [
    "Advanced topic, for those who want to go further after the webinar ..."
   ]
  },
  {
   "cell_type": "code",
   "execution_count": null,
   "metadata": {
    "ExecuteTime": {
     "end_time": "2018-09-26T01:49:50.690070Z",
     "start_time": "2018-09-26T01:49:50.684881Z"
    }
   },
   "outputs": [],
   "source": [
    "from decimal import Decimal\n",
    "Decimal(2**4096) / 2"
   ]
  },
  {
   "cell_type": "markdown",
   "metadata": {},
   "source": [
    "## The Assignment Statement\n",
    "We use the assignment statement to bind names to values"
   ]
  },
  {
   "cell_type": "code",
   "execution_count": null,
   "metadata": {
    "ExecuteTime": {
     "end_time": "2018-09-26T01:49:50.696829Z",
     "start_time": "2018-09-26T01:49:50.694831Z"
    }
   },
   "outputs": [],
   "source": [
    "x = 12"
   ]
  },
  {
   "cell_type": "code",
   "execution_count": null,
   "metadata": {
    "ExecuteTime": {
     "end_time": "2018-09-26T01:49:50.704928Z",
     "start_time": "2018-09-26T01:49:50.701659Z"
    }
   },
   "outputs": [],
   "source": [
    "x"
   ]
  },
  {
   "cell_type": "code",
   "execution_count": null,
   "metadata": {
    "ExecuteTime": {
     "end_time": "2018-09-26T01:49:50.710373Z",
     "start_time": "2018-09-26T01:49:50.706681Z"
    }
   },
   "outputs": [],
   "source": [
    "type(x)"
   ]
  },
  {
   "cell_type": "code",
   "execution_count": null,
   "metadata": {
    "ExecuteTime": {
     "end_time": "2018-09-26T01:49:50.715653Z",
     "start_time": "2018-09-26T01:49:50.711786Z"
    }
   },
   "outputs": [],
   "source": [
    "x**2"
   ]
  },
  {
   "cell_type": "markdown",
   "metadata": {},
   "source": [
    "There is destructuring "
   ]
  },
  {
   "cell_type": "code",
   "execution_count": null,
   "metadata": {
    "ExecuteTime": {
     "end_time": "2018-09-26T01:49:50.719957Z",
     "start_time": "2018-09-26T01:49:50.717576Z"
    }
   },
   "outputs": [],
   "source": [
    "x = a, b = 1, 2"
   ]
  },
  {
   "cell_type": "code",
   "execution_count": null,
   "metadata": {
    "ExecuteTime": {
     "end_time": "2018-09-26T01:49:50.725843Z",
     "start_time": "2018-09-26T01:49:50.721941Z"
    }
   },
   "outputs": [],
   "source": [
    "a"
   ]
  },
  {
   "cell_type": "code",
   "execution_count": null,
   "metadata": {
    "ExecuteTime": {
     "end_time": "2018-09-26T01:49:50.731721Z",
     "start_time": "2018-09-26T01:49:50.727758Z"
    }
   },
   "outputs": [],
   "source": [
    "b"
   ]
  },
  {
   "cell_type": "code",
   "execution_count": null,
   "metadata": {
    "ExecuteTime": {
     "end_time": "2018-09-26T01:49:50.735793Z",
     "start_time": "2018-09-26T01:49:50.733020Z"
    }
   },
   "outputs": [],
   "source": [
    "x"
   ]
  },
  {
   "cell_type": "code",
   "execution_count": null,
   "metadata": {
    "ExecuteTime": {
     "end_time": "2018-09-26T01:49:50.742162Z",
     "start_time": "2018-09-26T01:49:50.738115Z"
    }
   },
   "outputs": [],
   "source": [
    "type(x)"
   ]
  },
  {
   "cell_type": "code",
   "execution_count": null,
   "metadata": {
    "ExecuteTime": {
     "end_time": "2018-09-26T01:49:50.747332Z",
     "start_time": "2018-09-26T01:49:50.745049Z"
    }
   },
   "outputs": [],
   "source": [
    "c, d = x"
   ]
  },
  {
   "cell_type": "code",
   "execution_count": null,
   "metadata": {
    "ExecuteTime": {
     "end_time": "2018-09-26T01:49:50.753158Z",
     "start_time": "2018-09-26T01:49:50.749472Z"
    }
   },
   "outputs": [],
   "source": [
    "c == x[0]"
   ]
  },
  {
   "cell_type": "code",
   "execution_count": null,
   "metadata": {
    "ExecuteTime": {
     "end_time": "2018-09-26T01:49:50.757388Z",
     "start_time": "2018-09-26T01:49:50.754992Z"
    }
   },
   "outputs": [],
   "source": [
    "del x"
   ]
  },
  {
   "cell_type": "markdown",
   "metadata": {},
   "source": [
    "## Strings"
   ]
  },
  {
   "cell_type": "code",
   "execution_count": null,
   "metadata": {
    "ExecuteTime": {
     "end_time": "2018-09-26T01:49:50.763116Z",
     "start_time": "2018-09-26T01:49:50.759315Z"
    }
   },
   "outputs": [],
   "source": [
    "'single quotes'"
   ]
  },
  {
   "cell_type": "code",
   "execution_count": null,
   "metadata": {
    "ExecuteTime": {
     "end_time": "2018-09-26T01:49:50.768528Z",
     "start_time": "2018-09-26T01:49:50.764856Z"
    }
   },
   "outputs": [],
   "source": [
    "\"double quotes\""
   ]
  },
  {
   "cell_type": "code",
   "execution_count": null,
   "metadata": {
    "ExecuteTime": {
     "end_time": "2018-09-26T01:49:50.774541Z",
     "start_time": "2018-09-26T01:49:50.770623Z"
    }
   },
   "outputs": [],
   "source": [
    "'''triple\n",
    "single\n",
    "quotes\n",
    "'''"
   ]
  },
  {
   "cell_type": "code",
   "execution_count": null,
   "metadata": {
    "ExecuteTime": {
     "end_time": "2018-09-26T01:49:50.779678Z",
     "start_time": "2018-09-26T01:49:50.776507Z"
    }
   },
   "outputs": [],
   "source": [
    "\"\"\"triple\n",
    "'double'\n",
    "quotes\n",
    "\"\"\""
   ]
  },
  {
   "cell_type": "code",
   "execution_count": null,
   "metadata": {
    "ExecuteTime": {
     "end_time": "2018-09-26T01:49:50.784939Z",
     "start_time": "2018-09-26T01:49:50.781574Z"
    }
   },
   "outputs": [],
   "source": [
    "type(\"some string\")"
   ]
  },
  {
   "cell_type": "code",
   "execution_count": null,
   "metadata": {
    "ExecuteTime": {
     "end_time": "2018-09-26T01:49:50.790132Z",
     "start_time": "2018-09-26T01:49:50.787033Z"
    }
   },
   "outputs": [],
   "source": [
    "\" one two three \".strip()"
   ]
  },
  {
   "cell_type": "markdown",
   "metadata": {},
   "source": [
    "### Slice Operator"
   ]
  },
  {
   "cell_type": "markdown",
   "metadata": {},
   "source": [
    "Understanding the slice operator indexing\n",
    "```\n",
    " +---+---+---+---+---+---+\n",
    " | P | y | t | h | o | n |\n",
    " +---+---+---+---+---+---+\n",
    " 0   1   2   3   4   5   6\n",
    "-6  -5  -4  -3  -2  -1\n",
    "```\n",
    "From: https://docs.python.org/3/tutorial/introduction.html"
   ]
  },
  {
   "cell_type": "code",
   "execution_count": null,
   "metadata": {
    "ExecuteTime": {
     "end_time": "2018-09-26T01:49:50.795781Z",
     "start_time": "2018-09-26T01:49:50.792001Z"
    }
   },
   "outputs": [],
   "source": [
    "\"strings are sequence of chars indexed by 0\"[0]"
   ]
  },
  {
   "cell_type": "code",
   "execution_count": null,
   "metadata": {
    "ExecuteTime": {
     "end_time": "2018-09-26T01:49:50.801587Z",
     "start_time": "2018-09-26T01:49:50.797612Z"
    }
   },
   "outputs": [],
   "source": [
    "\"the slice operator allows us to cut strings\"[4:9]"
   ]
  },
  {
   "cell_type": "code",
   "execution_count": null,
   "metadata": {
    "ExecuteTime": {
     "end_time": "2018-09-26T01:49:50.807460Z",
     "start_time": "2018-09-26T01:49:50.803524Z"
    }
   },
   "outputs": [],
   "source": [
    "\"the index also comes from the end with negative values\"[-1]"
   ]
  },
  {
   "cell_type": "code",
   "execution_count": null,
   "metadata": {
    "ExecuteTime": {
     "end_time": "2018-09-26T01:49:50.812689Z",
     "start_time": "2018-09-26T01:49:50.809261Z"
    }
   },
   "outputs": [],
   "source": [
    "\"you can cut just the value from the end\"[-7:]"
   ]
  },
  {
   "cell_type": "code",
   "execution_count": null,
   "metadata": {
    "ExecuteTime": {
     "end_time": "2018-09-26T01:49:50.818129Z",
     "start_time": "2018-09-26T01:49:50.814464Z"
    }
   },
   "outputs": [],
   "source": [
    "\"y o u   c a n   s k i p\"[::2]"
   ]
  },
  {
   "cell_type": "code",
   "execution_count": null,
   "metadata": {
    "ExecuteTime": {
     "end_time": "2018-09-26T01:49:50.823922Z",
     "start_time": "2018-09-26T01:49:50.820066Z"
    }
   },
   "outputs": [],
   "source": [
    "\"you can also reverse: 1 2 3\"[-1:-6:-1]"
   ]
  },
  {
   "cell_type": "code",
   "execution_count": null,
   "metadata": {
    "ExecuteTime": {
     "end_time": "2018-09-26T01:49:50.829630Z",
     "start_time": "2018-09-26T01:49:50.825823Z"
    }
   },
   "outputs": [],
   "source": [
    "\"reverse all: 1 2 3\"[::-1]"
   ]
  },
  {
   "cell_type": "code",
   "execution_count": null,
   "metadata": {
    "ExecuteTime": {
     "end_time": "2018-09-26T01:49:50.835337Z",
     "start_time": "2018-09-26T01:49:50.831252Z"
    }
   },
   "outputs": [],
   "source": [
    "\"super_useful.txt\"[6:-4]"
   ]
  },
  {
   "cell_type": "markdown",
   "metadata": {},
   "source": [
    "### String Interpolation"
   ]
  },
  {
   "cell_type": "code",
   "execution_count": null,
   "metadata": {
    "ExecuteTime": {
     "end_time": "2018-09-26T01:49:50.840697Z",
     "start_time": "2018-09-26T01:49:50.837250Z"
    }
   },
   "outputs": [],
   "source": [
    "x = \"legacy\"\n",
    "\"%s method\" % x"
   ]
  },
  {
   "cell_type": "code",
   "execution_count": null,
   "metadata": {
    "ExecuteTime": {
     "end_time": "2018-09-26T01:49:50.846394Z",
     "start_time": "2018-09-26T01:49:50.842412Z"
    }
   },
   "outputs": [],
   "source": [
    "x = \"recent\"\n",
    "\"{0} method\".format(x)"
   ]
  },
  {
   "cell_type": "code",
   "execution_count": null,
   "metadata": {
    "ExecuteTime": {
     "end_time": "2018-09-26T01:49:50.852694Z",
     "start_time": "2018-09-26T01:49:50.848505Z"
    }
   },
   "outputs": [],
   "source": [
    "x = \"latest\"\n",
    "f\"{x} method\""
   ]
  },
  {
   "cell_type": "markdown",
   "metadata": {},
   "source": [
    "## Convert one type into another"
   ]
  },
  {
   "cell_type": "markdown",
   "metadata": {},
   "source": [
    "The type names can be used as \"casting\" functions, to convert values between types (i.e. create new objects)"
   ]
  },
  {
   "cell_type": "code",
   "execution_count": null,
   "metadata": {
    "ExecuteTime": {
     "end_time": "2018-09-26T01:49:50.858708Z",
     "start_time": "2018-09-26T01:49:50.854840Z"
    }
   },
   "outputs": [],
   "source": [
    "type(\"1\")"
   ]
  },
  {
   "cell_type": "code",
   "execution_count": null,
   "metadata": {
    "ExecuteTime": {
     "end_time": "2018-09-26T01:49:50.864076Z",
     "start_time": "2018-09-26T01:49:50.860531Z"
    }
   },
   "outputs": [],
   "source": [
    "type(1)"
   ]
  },
  {
   "cell_type": "code",
   "execution_count": null,
   "metadata": {
    "ExecuteTime": {
     "end_time": "2018-09-26T01:49:50.869302Z",
     "start_time": "2018-09-26T01:49:50.865817Z"
    }
   },
   "outputs": [],
   "source": [
    "int(\"1\")"
   ]
  },
  {
   "cell_type": "code",
   "execution_count": null,
   "metadata": {
    "ExecuteTime": {
     "end_time": "2018-09-26T01:49:50.874418Z",
     "start_time": "2018-09-26T01:49:50.870932Z"
    }
   },
   "outputs": [],
   "source": [
    "str(1)"
   ]
  },
  {
   "cell_type": "markdown",
   "metadata": {
    "ExecuteTime": {
     "end_time": "2018-08-11T11:46:06.603915Z",
     "start_time": "2018-08-11T11:46:06.600104Z"
    }
   },
   "source": [
    "There is **no implicit casting** in the language. We do a comparisom with javascript to illustrate the different approach between to dynamically typed languages, but one is loosely typed (Javascript) and the other strongly typed (Python)."
   ]
  },
  {
   "cell_type": "code",
   "execution_count": null,
   "metadata": {
    "ExecuteTime": {
     "end_time": "2018-09-26T01:49:50.879291Z",
     "start_time": "2018-09-26T01:49:50.875999Z"
    }
   },
   "outputs": [],
   "source": [
    "%%javascript\n",
    "console.log(1==\"1\")\n",
    "console.log(1+\"1\")\n",
    "console.log(2*\"2\")"
   ]
  },
  {
   "cell_type": "markdown",
   "metadata": {},
   "source": [
    "In Python, operators between different types do not perform explicit type casting"
   ]
  },
  {
   "cell_type": "code",
   "execution_count": null,
   "metadata": {
    "ExecuteTime": {
     "end_time": "2018-09-26T01:49:50.888106Z",
     "start_time": "2018-09-26T01:49:50.881104Z"
    }
   },
   "outputs": [],
   "source": [
    "1 + \"1\""
   ]
  },
  {
   "cell_type": "markdown",
   "metadata": {},
   "source": [
    "But, because everything is an object, operator overloading is supported in the language"
   ]
  },
  {
   "cell_type": "code",
   "execution_count": null,
   "metadata": {
    "ExecuteTime": {
     "end_time": "2018-09-26T01:50:03.883856Z",
     "start_time": "2018-09-26T01:50:03.880567Z"
    }
   },
   "outputs": [],
   "source": [
    "3*\"Blah \""
   ]
  },
  {
   "cell_type": "markdown",
   "metadata": {},
   "source": [
    "## Collections or Compound Data Structures\n",
    "\n",
    "There are 4 native compound types: List, Tuple, Dict and Set."
   ]
  },
  {
   "cell_type": "markdown",
   "metadata": {},
   "source": [
    "### List (Mutable) and Tuple (Immutable)"
   ]
  },
  {
   "cell_type": "code",
   "execution_count": null,
   "metadata": {
    "ExecuteTime": {
     "end_time": "2018-09-26T01:50:03.892443Z",
     "start_time": "2018-09-26T01:50:03.888889Z"
    }
   },
   "outputs": [],
   "source": [
    "my_list = [1, 2, 3]\n",
    "my_list"
   ]
  },
  {
   "cell_type": "code",
   "execution_count": null,
   "metadata": {
    "ExecuteTime": {
     "end_time": "2018-09-26T01:50:03.900258Z",
     "start_time": "2018-09-26T01:50:03.896842Z"
    }
   },
   "outputs": [],
   "source": [
    "type(my_list)"
   ]
  },
  {
   "cell_type": "code",
   "execution_count": null,
   "metadata": {
    "ExecuteTime": {
     "end_time": "2018-09-26T01:50:03.908673Z",
     "start_time": "2018-09-26T01:50:03.904864Z"
    }
   },
   "outputs": [],
   "source": [
    "my_tuple = (1, 2, 3, 4, 5)\n",
    "my_tuple"
   ]
  },
  {
   "cell_type": "code",
   "execution_count": null,
   "metadata": {
    "ExecuteTime": {
     "end_time": "2018-09-26T01:50:03.915565Z",
     "start_time": "2018-09-26T01:50:03.912073Z"
    }
   },
   "outputs": [],
   "source": [
    "type(my_tuple)"
   ]
  },
  {
   "cell_type": "markdown",
   "metadata": {},
   "source": [
    "Tuples (immutable) and Lists (mutable) are both sequences (like strings), thus \"sliceable\""
   ]
  },
  {
   "cell_type": "code",
   "execution_count": null,
   "metadata": {
    "ExecuteTime": {
     "end_time": "2018-09-26T01:50:03.921004Z",
     "start_time": "2018-09-26T01:50:03.917503Z"
    }
   },
   "outputs": [],
   "source": [
    "my_tuple"
   ]
  },
  {
   "cell_type": "code",
   "execution_count": null,
   "metadata": {
    "ExecuteTime": {
     "end_time": "2018-09-26T01:50:03.928416Z",
     "start_time": "2018-09-26T01:50:03.925289Z"
    }
   },
   "outputs": [],
   "source": [
    "my_tuple[2]"
   ]
  },
  {
   "cell_type": "code",
   "execution_count": null,
   "metadata": {
    "ExecuteTime": {
     "end_time": "2018-09-26T01:50:03.934371Z",
     "start_time": "2018-09-26T01:50:03.930445Z"
    }
   },
   "outputs": [],
   "source": [
    "my_tuple[2:-1]"
   ]
  },
  {
   "cell_type": "markdown",
   "metadata": {},
   "source": [
    "Lists and Tuples can be easily combined"
   ]
  },
  {
   "cell_type": "code",
   "execution_count": null,
   "metadata": {
    "ExecuteTime": {
     "end_time": "2018-09-26T01:50:03.940989Z",
     "start_time": "2018-09-26T01:50:03.936861Z"
    }
   },
   "outputs": [],
   "source": [
    "[1, 2, 3] + [4, 5, 6]"
   ]
  },
  {
   "cell_type": "code",
   "execution_count": null,
   "metadata": {
    "ExecuteTime": {
     "end_time": "2018-09-26T01:50:03.946473Z",
     "start_time": "2018-09-26T01:50:03.942833Z"
    }
   },
   "outputs": [],
   "source": [
    "(1, 2, 3) + (4, 5, 6)"
   ]
  },
  {
   "cell_type": "markdown",
   "metadata": {},
   "source": [
    "But only between themselves."
   ]
  },
  {
   "cell_type": "code",
   "execution_count": null,
   "metadata": {
    "ExecuteTime": {
     "end_time": "2018-09-26T01:50:03.956779Z",
     "start_time": "2018-09-26T01:50:03.949946Z"
    }
   },
   "outputs": [],
   "source": [
    "(1, 2, 3) + [1, 2, 3]"
   ]
  },
  {
   "cell_type": "markdown",
   "metadata": {},
   "source": [
    "But we can easily transform one into the other"
   ]
  },
  {
   "cell_type": "code",
   "execution_count": null,
   "metadata": {
    "ExecuteTime": {
     "end_time": "2018-09-26T01:50:13.368262Z",
     "start_time": "2018-09-26T01:50:13.364603Z"
    }
   },
   "outputs": [],
   "source": [
    "list((1, 2, 3)) + [4, 5, 6]"
   ]
  },
  {
   "cell_type": "code",
   "execution_count": null,
   "metadata": {
    "ExecuteTime": {
     "end_time": "2018-09-26T01:50:13.377880Z",
     "start_time": "2018-09-26T01:50:13.373337Z"
    }
   },
   "outputs": [],
   "source": [
    "(1, 2, 3) + tuple([4, 5, 6])"
   ]
  },
  {
   "cell_type": "markdown",
   "metadata": {
    "ExecuteTime": {
     "end_time": "2018-08-27T18:45:55.351841Z",
     "start_time": "2018-08-27T18:45:55.348439Z"
    }
   },
   "source": [
    "List can work as stacks (First-in, Last-out)"
   ]
  },
  {
   "cell_type": "code",
   "execution_count": null,
   "metadata": {
    "ExecuteTime": {
     "end_time": "2018-09-26T01:50:13.382404Z",
     "start_time": "2018-09-26T01:50:13.380090Z"
    }
   },
   "outputs": [],
   "source": [
    "my_list = []"
   ]
  },
  {
   "cell_type": "code",
   "execution_count": null,
   "metadata": {
    "ExecuteTime": {
     "end_time": "2018-09-26T01:50:13.389190Z",
     "start_time": "2018-09-26T01:50:13.386695Z"
    }
   },
   "outputs": [],
   "source": [
    "my_list.append(1)\n",
    "my_list.append(2)\n",
    "my_list.append(3)"
   ]
  },
  {
   "cell_type": "code",
   "execution_count": null,
   "metadata": {
    "ExecuteTime": {
     "end_time": "2018-09-26T01:50:13.395466Z",
     "start_time": "2018-09-26T01:50:13.391152Z"
    }
   },
   "outputs": [],
   "source": [
    "my_list"
   ]
  },
  {
   "cell_type": "code",
   "execution_count": null,
   "metadata": {
    "ExecuteTime": {
     "end_time": "2018-09-26T01:50:13.400203Z",
     "start_time": "2018-09-26T01:50:13.397229Z"
    }
   },
   "outputs": [],
   "source": [
    "my_list.pop()"
   ]
  },
  {
   "cell_type": "code",
   "execution_count": null,
   "metadata": {
    "ExecuteTime": {
     "end_time": "2018-09-26T01:50:13.406508Z",
     "start_time": "2018-09-26T01:50:13.402625Z"
    }
   },
   "outputs": [],
   "source": [
    "my_list"
   ]
  },
  {
   "cell_type": "code",
   "execution_count": null,
   "metadata": {
    "ExecuteTime": {
     "end_time": "2018-09-26T01:50:13.411873Z",
     "start_time": "2018-09-26T01:50:13.408593Z"
    }
   },
   "outputs": [],
   "source": [
    "len(my_list)"
   ]
  },
  {
   "cell_type": "markdown",
   "metadata": {},
   "source": [
    "List can work as queues (First-in, First-out)"
   ]
  },
  {
   "cell_type": "code",
   "execution_count": null,
   "metadata": {
    "ExecuteTime": {
     "end_time": "2018-09-26T01:50:13.415962Z",
     "start_time": "2018-09-26T01:50:13.413941Z"
    }
   },
   "outputs": [],
   "source": [
    "my_queue = []"
   ]
  },
  {
   "cell_type": "code",
   "execution_count": null,
   "metadata": {
    "ExecuteTime": {
     "end_time": "2018-09-26T01:50:13.420218Z",
     "start_time": "2018-09-26T01:50:13.417766Z"
    }
   },
   "outputs": [],
   "source": [
    "my_queue.insert(0, 1)\n",
    "my_queue.insert(0, 2)\n",
    "my_queue.insert(0, 3)"
   ]
  },
  {
   "cell_type": "code",
   "execution_count": null,
   "metadata": {
    "ExecuteTime": {
     "end_time": "2018-09-26T01:50:13.426109Z",
     "start_time": "2018-09-26T01:50:13.422266Z"
    }
   },
   "outputs": [],
   "source": [
    "my_queue"
   ]
  },
  {
   "cell_type": "code",
   "execution_count": null,
   "metadata": {
    "ExecuteTime": {
     "end_time": "2018-09-26T01:50:13.431238Z",
     "start_time": "2018-09-26T01:50:13.427830Z"
    }
   },
   "outputs": [],
   "source": [
    "my_queue.pop()"
   ]
  },
  {
   "cell_type": "code",
   "execution_count": null,
   "metadata": {
    "ExecuteTime": {
     "end_time": "2018-09-26T01:50:13.436260Z",
     "start_time": "2018-09-26T01:50:13.432900Z"
    }
   },
   "outputs": [],
   "source": [
    "my_queue"
   ]
  },
  {
   "cell_type": "markdown",
   "metadata": {},
   "source": [
    "You can also pop from the front"
   ]
  },
  {
   "cell_type": "code",
   "execution_count": null,
   "metadata": {
    "ExecuteTime": {
     "end_time": "2018-09-26T01:50:13.441558Z",
     "start_time": "2018-09-26T01:50:13.438254Z"
    }
   },
   "outputs": [],
   "source": [
    "my_queue.pop(0)"
   ]
  },
  {
   "cell_type": "markdown",
   "metadata": {},
   "source": [
    "### Sets"
   ]
  },
  {
   "cell_type": "code",
   "execution_count": null,
   "metadata": {
    "ExecuteTime": {
     "end_time": "2018-09-26T01:50:13.447625Z",
     "start_time": "2018-09-26T01:50:13.443589Z"
    }
   },
   "outputs": [],
   "source": [
    "my_set = {1, 2, 3}\n",
    "my_set"
   ]
  },
  {
   "cell_type": "code",
   "execution_count": null,
   "metadata": {
    "ExecuteTime": {
     "end_time": "2018-09-26T01:50:13.453071Z",
     "start_time": "2018-09-26T01:50:13.449375Z"
    }
   },
   "outputs": [],
   "source": [
    "type(my_set)"
   ]
  },
  {
   "cell_type": "code",
   "execution_count": null,
   "metadata": {
    "ExecuteTime": {
     "end_time": "2018-09-26T01:50:13.457204Z",
     "start_time": "2018-09-26T01:50:13.454843Z"
    }
   },
   "outputs": [],
   "source": [
    "my_set_a  = set()\n",
    "my_set_b = {1, 2, 3}"
   ]
  },
  {
   "cell_type": "code",
   "execution_count": null,
   "metadata": {
    "ExecuteTime": {
     "end_time": "2018-09-26T01:50:13.461444Z",
     "start_time": "2018-09-26T01:50:13.459244Z"
    }
   },
   "outputs": [],
   "source": [
    "my_set_a.add(1)\n",
    "my_set_a.add(5)"
   ]
  },
  {
   "cell_type": "code",
   "execution_count": null,
   "metadata": {
    "ExecuteTime": {
     "end_time": "2018-09-26T01:50:13.467435Z",
     "start_time": "2018-09-26T01:50:13.463439Z"
    }
   },
   "outputs": [],
   "source": [
    "1 in my_set_a, 5 in my_set_b"
   ]
  },
  {
   "cell_type": "code",
   "execution_count": null,
   "metadata": {
    "ExecuteTime": {
     "end_time": "2018-09-26T01:50:13.472695Z",
     "start_time": "2018-09-26T01:50:13.469204Z"
    }
   },
   "outputs": [],
   "source": [
    "{1, 2, 3}.union({3, 4, 5})"
   ]
  },
  {
   "cell_type": "code",
   "execution_count": null,
   "metadata": {
    "ExecuteTime": {
     "end_time": "2018-09-26T01:50:13.478457Z",
     "start_time": "2018-09-26T01:50:13.474698Z"
    }
   },
   "outputs": [],
   "source": [
    "{1, 2, 3}.intersection({3, 4, 5})"
   ]
  },
  {
   "cell_type": "code",
   "execution_count": null,
   "metadata": {
    "ExecuteTime": {
     "end_time": "2018-09-26T01:50:13.483564Z",
     "start_time": "2018-09-26T01:50:13.480406Z"
    }
   },
   "outputs": [],
   "source": [
    "my_set_a.difference(my_set_b)"
   ]
  },
  {
   "cell_type": "markdown",
   "metadata": {},
   "source": [
    "### Dictionaries"
   ]
  },
  {
   "cell_type": "code",
   "execution_count": null,
   "metadata": {
    "ExecuteTime": {
     "end_time": "2018-09-26T01:50:13.489089Z",
     "start_time": "2018-09-26T01:50:13.485517Z"
    }
   },
   "outputs": [],
   "source": [
    "my_dict = {\"one\": 1, \"two\": 2}\n",
    "my_dict"
   ]
  },
  {
   "cell_type": "code",
   "execution_count": null,
   "metadata": {
    "ExecuteTime": {
     "end_time": "2018-09-26T01:50:13.494154Z",
     "start_time": "2018-09-26T01:50:13.490746Z"
    }
   },
   "outputs": [],
   "source": [
    "type(my_dict)"
   ]
  },
  {
   "cell_type": "code",
   "execution_count": null,
   "metadata": {
    "ExecuteTime": {
     "end_time": "2018-09-26T01:50:13.499449Z",
     "start_time": "2018-09-26T01:50:13.495977Z"
    }
   },
   "outputs": [],
   "source": [
    "my_dict[\"two\"]"
   ]
  },
  {
   "cell_type": "code",
   "execution_count": null,
   "metadata": {
    "ExecuteTime": {
     "end_time": "2018-09-26T01:50:13.504673Z",
     "start_time": "2018-09-26T01:50:13.501083Z"
    }
   },
   "outputs": [],
   "source": [
    "\"one\" in my_dict"
   ]
  },
  {
   "cell_type": "code",
   "execution_count": null,
   "metadata": {
    "ExecuteTime": {
     "end_time": "2018-09-26T01:50:13.510352Z",
     "start_time": "2018-09-26T01:50:13.506741Z"
    }
   },
   "outputs": [],
   "source": [
    "1 in my_dict"
   ]
  },
  {
   "cell_type": "code",
   "execution_count": null,
   "metadata": {
    "ExecuteTime": {
     "end_time": "2018-09-26T01:50:13.515247Z",
     "start_time": "2018-09-26T01:50:13.511827Z"
    }
   },
   "outputs": [],
   "source": [
    "my_dict.keys()"
   ]
  },
  {
   "cell_type": "code",
   "execution_count": null,
   "metadata": {
    "ExecuteTime": {
     "end_time": "2018-09-26T01:50:13.520318Z",
     "start_time": "2018-09-26T01:50:13.516781Z"
    }
   },
   "outputs": [],
   "source": [
    "my_dict.values()"
   ]
  },
  {
   "cell_type": "code",
   "execution_count": null,
   "metadata": {
    "ExecuteTime": {
     "end_time": "2018-09-26T01:50:13.525610Z",
     "start_time": "2018-09-26T01:50:13.521967Z"
    }
   },
   "outputs": [],
   "source": [
    "my_dict.items()"
   ]
  },
  {
   "cell_type": "code",
   "execution_count": null,
   "metadata": {
    "ExecuteTime": {
     "end_time": "2018-09-26T01:50:13.531492Z",
     "start_time": "2018-09-26T01:50:13.527420Z"
    }
   },
   "outputs": [],
   "source": [
    "dict(one=1, two=2)"
   ]
  },
  {
   "cell_type": "code",
   "execution_count": null,
   "metadata": {
    "ExecuteTime": {
     "end_time": "2018-09-26T01:50:13.536975Z",
     "start_time": "2018-09-26T01:50:13.533238Z"
    }
   },
   "outputs": [],
   "source": [
    "new_dict = dict(my_dict.items())\n",
    "new_dict"
   ]
  },
  {
   "cell_type": "code",
   "execution_count": null,
   "metadata": {
    "ExecuteTime": {
     "end_time": "2018-09-26T01:50:13.542244Z",
     "start_time": "2018-09-26T01:50:13.538590Z"
    }
   },
   "outputs": [],
   "source": [
    "new_dict == my_dict"
   ]
  },
  {
   "cell_type": "code",
   "execution_count": null,
   "metadata": {
    "ExecuteTime": {
     "end_time": "2018-09-26T01:50:13.547558Z",
     "start_time": "2018-09-26T01:50:13.543867Z"
    }
   },
   "outputs": [],
   "source": [
    "new_dict is my_dict"
   ]
  },
  {
   "cell_type": "code",
   "execution_count": null,
   "metadata": {
    "ExecuteTime": {
     "end_time": "2018-09-26T01:50:13.553540Z",
     "start_time": "2018-09-26T01:50:13.549273Z"
    }
   },
   "outputs": [],
   "source": [
    "id(new_dict),  id(my_dict)"
   ]
  },
  {
   "cell_type": "code",
   "execution_count": null,
   "metadata": {
    "ExecuteTime": {
     "end_time": "2018-09-26T01:50:13.558886Z",
     "start_time": "2018-09-26T01:50:13.555335Z"
    }
   },
   "outputs": [],
   "source": [
    "len(new_dict)"
   ]
  },
  {
   "cell_type": "code",
   "execution_count": null,
   "metadata": {
    "ExecuteTime": {
     "end_time": "2018-09-26T01:50:13.563355Z",
     "start_time": "2018-09-26T01:50:13.560939Z"
    }
   },
   "outputs": [],
   "source": [
    "del new_dict['one']"
   ]
  },
  {
   "cell_type": "markdown",
   "metadata": {},
   "source": [
    "# Exception Handling"
   ]
  },
  {
   "cell_type": "code",
   "execution_count": null,
   "metadata": {
    "ExecuteTime": {
     "end_time": "2018-09-26T02:05:17.038517Z",
     "start_time": "2018-09-26T02:05:17.032109Z"
    }
   },
   "outputs": [],
   "source": [
    "raise Exception(\"Some random exception\")"
   ]
  },
  {
   "cell_type": "code",
   "execution_count": null,
   "metadata": {
    "ExecuteTime": {
     "end_time": "2018-09-26T02:06:15.793105Z",
     "start_time": "2018-09-26T02:06:15.790157Z"
    }
   },
   "outputs": [],
   "source": [
    "try:\n",
    "    raise ValueError('This is another artificial exxample')\n",
    "except ValueError as ex:\n",
    "    print(ex)"
   ]
  },
  {
   "cell_type": "code",
   "execution_count": null,
   "metadata": {
    "ExecuteTime": {
     "end_time": "2018-09-26T02:07:38.774448Z",
     "start_time": "2018-09-26T02:07:38.771648Z"
    }
   },
   "outputs": [],
   "source": [
    "try:\n",
    "    pass\n",
    "except ValueError as ex:\n",
    "    print(ex)\n",
    "else:\n",
    "    print(\"No exception was raised\")"
   ]
  },
  {
   "cell_type": "code",
   "execution_count": null,
   "metadata": {
    "ExecuteTime": {
     "end_time": "2018-09-26T02:08:32.064036Z",
     "start_time": "2018-09-26T02:08:32.056820Z"
    }
   },
   "outputs": [],
   "source": [
    "try:\n",
    "    1/0\n",
    "finally:\n",
    "    print(\"Happens in spite of exceptions\")"
   ]
  },
  {
   "cell_type": "markdown",
   "metadata": {},
   "source": [
    "# Exercises\n",
    "Using the slice operator, invert the elements of the list below, then remove the first and the last elements."
   ]
  },
  {
   "cell_type": "code",
   "execution_count": null,
   "metadata": {
    "ExecuteTime": {
     "end_time": "2018-09-26T01:50:13.569093Z",
     "start_time": "2018-09-26T01:50:13.565028Z"
    }
   },
   "outputs": [],
   "source": [
    "[1, 2, 3, 4, 5]"
   ]
  },
  {
   "cell_type": "markdown",
   "metadata": {},
   "source": [
    "Execute the cell below, then:\n",
    "1. remove all the duplicates in the list refered by __sequence__\n",
    "2. sort the results in descending order\n",
    "3. store the results in a variable __result__ as a list"
   ]
  },
  {
   "cell_type": "code",
   "execution_count": null,
   "metadata": {
    "ExecuteTime": {
     "end_time": "2018-09-26T01:50:13.573790Z",
     "start_time": "2018-09-26T01:50:13.570833Z"
    }
   },
   "outputs": [],
   "source": [
    "import random\n",
    "sequence = []\n",
    "for i in range(20):\n",
    "    sequence.append(random.choice(range(100)))"
   ]
  },
  {
   "cell_type": "code",
   "execution_count": null,
   "metadata": {
    "ExecuteTime": {
     "end_time": "2018-09-26T01:50:13.580264Z",
     "start_time": "2018-09-26T01:50:13.575671Z"
    }
   },
   "outputs": [],
   "source": [
    "sequence"
   ]
  },
  {
   "cell_type": "code",
   "execution_count": null,
   "metadata": {},
   "outputs": [],
   "source": []
  }
 ],
 "metadata": {
  "hide_input": false,
  "kernelspec": {
   "display_name": "Python 3",
   "language": "python",
   "name": "python3"
  },
  "language_info": {
   "codemirror_mode": {
    "name": "ipython",
    "version": 3
   },
   "file_extension": ".py",
   "mimetype": "text/x-python",
   "name": "python",
   "nbconvert_exporter": "python",
   "pygments_lexer": "ipython3",
   "version": "3.7.0"
  },
  "toc": {
   "base_numbering": 1,
   "nav_menu": {
    "height": "164px",
    "width": "252px"
   },
   "number_sections": true,
   "sideBar": true,
   "skip_h1_title": false,
   "title_cell": "Table of Contents",
   "title_sidebar": "Contents",
   "toc_cell": false,
   "toc_position": {},
   "toc_section_display": "block",
   "toc_window_display": false
  }
 },
 "nbformat": 4,
 "nbformat_minor": 2
}
