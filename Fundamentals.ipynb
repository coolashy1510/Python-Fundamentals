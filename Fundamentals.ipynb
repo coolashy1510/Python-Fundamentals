  {
   "cell_type": "markdown",
   "metadata": {},
   "source": [
    "# Executing Python Code\n",
    "\n",
    " * Interactive Mode ```python```\n",
    " * Run script or program ```python blah.py```\n",
    " * Run script and fallback to interactive mode ```python -i bla.py```\n",
    " * Single command line expression ```python -c 'print(3*15)'``` "
   ]
  }
